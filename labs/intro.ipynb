{
 "cells": [
  {
   "cell_type": "markdown",
   "metadata": {},
   "source": [
    "## Sources\n",
    "\n",
    "andrewbeattycourseware/wsaa-course-material\n",
    "\n",
    "https://github.com/andrewbeattycourseware/datarepresentation"
   ]
  },
  {
   "cell_type": "markdown",
   "metadata": {},
   "source": [
    "# WSAA1 What is a Webservice\n",
    "\n",
    "https://api.irishrail.ie/realtime/realtime.asmx/getCurrentTrainsXML\n",
    "\n",
    "https://api.github.com/users/andrewbeattycourseware/repos\n",
    "\n",
    "https://api.coindesk.com/v1/bpi/currentprice/USD.json\n",
    "\n",
    "https://www.cso.ie/en/databases/"
   ]
  },
  {
   "cell_type": "code",
   "execution_count": null,
   "metadata": {},
   "outputs": [],
   "source": []
  },
  {
   "cell_type": "code",
   "execution_count": null,
   "metadata": {},
   "outputs": [],
   "source": []
  }
 ],
 "metadata": {
  "language_info": {
   "name": "python"
  }
 },
 "nbformat": 4,
 "nbformat_minor": 2
}
